{
 "cells": [
  {
   "cell_type": "markdown",
   "id": "0d834719",
   "metadata": {},
   "source": [
    "## Example usage of `adversarial_gym` wrappers using OpenAI Gym and `stable-baselines3`"
   ]
  },
  {
   "cell_type": "markdown",
   "id": "bb8e805d",
   "metadata": {},
   "source": [
    "Import required packages.\n",
    "\n",
    "`gym` is needed for RL environments.\n",
    "We use PPO from stable-baselines.\n",
    "\n",
    "`adversarial_gym` contains 3 wrappers at the moment. One each for adding nosie to observations, actions, and reward. Each of these wrappers is imported."
   ]
  },
  {
   "cell_type": "code",
   "execution_count": 1,
   "id": "f6fddb4c",
   "metadata": {
    "scrolled": false
   },
   "outputs": [],
   "source": [
    "%load_ext autoreload\n",
    "%autoreload 2\n",
    "import gym\n",
    "from adversarial_gym.wrappers import ObsNoiseWrapper, ActionNoiseWrapper, RewardNoiseWrapper\n",
    "from stable_baselines3 import PPO"
   ]
  },
  {
   "cell_type": "code",
   "execution_count": 2,
   "id": "4d56d5c5",
   "metadata": {},
   "outputs": [],
   "source": [
    "%matplotlib inline\n",
    "import matplotlib.pyplot as plt\n",
    "from IPython import display"
   ]
  },
  {
   "cell_type": "markdown",
   "id": "ef0fb0fb",
   "metadata": {},
   "source": [
    "Create the environment."
   ]
  },
  {
   "cell_type": "code",
   "execution_count": 3,
   "id": "ef19af27",
   "metadata": {},
   "outputs": [],
   "source": [
    "env = gym.make(\"CartPole-v1\")"
   ]
  },
  {
   "cell_type": "markdown",
   "id": "3fbe8451",
   "metadata": {},
   "source": [
    "Let's try training a PPO agent on this version of the environment without noise so we can see what impact, if any, the noise we add to the next version of the environment will have on performance."
   ]
  },
  {
   "cell_type": "code",
   "execution_count": 4,
   "id": "21357e06",
   "metadata": {
    "scrolled": false
   },
   "outputs": [
    {
     "name": "stdout",
     "output_type": "stream",
     "text": [
      "Using cpu device\n",
      "Wrapping the env with a `Monitor` wrapper\n",
      "Wrapping the env in a DummyVecEnv.\n",
      "---------------------------------\n",
      "| rollout/           |          |\n",
      "|    ep_len_mean     | 21.6     |\n",
      "|    ep_rew_mean     | 21.6     |\n",
      "| time/              |          |\n",
      "|    fps             | 2916     |\n",
      "|    iterations      | 1        |\n",
      "|    time_elapsed    | 0        |\n",
      "|    total_timesteps | 2048     |\n",
      "---------------------------------\n",
      "-----------------------------------------\n",
      "| rollout/                |             |\n",
      "|    ep_len_mean          | 25.3        |\n",
      "|    ep_rew_mean          | 25.3        |\n",
      "| time/                   |             |\n",
      "|    fps                  | 1762        |\n",
      "|    iterations           | 2           |\n",
      "|    time_elapsed         | 2           |\n",
      "|    total_timesteps      | 4096        |\n",
      "| train/                  |             |\n",
      "|    approx_kl            | 0.009394404 |\n",
      "|    clip_fraction        | 0.107       |\n",
      "|    clip_range           | 0.2         |\n",
      "|    entropy_loss         | -0.686      |\n",
      "|    explained_variance   | 0.00199     |\n",
      "|    learning_rate        | 0.0003      |\n",
      "|    loss                 | 6.62        |\n",
      "|    n_updates            | 10          |\n",
      "|    policy_gradient_loss | -0.0147     |\n",
      "|    value_loss           | 51.9        |\n",
      "-----------------------------------------\n",
      "-----------------------------------------\n",
      "| rollout/                |             |\n",
      "|    ep_len_mean          | 37.4        |\n",
      "|    ep_rew_mean          | 37.4        |\n",
      "| time/                   |             |\n",
      "|    fps                  | 1606        |\n",
      "|    iterations           | 3           |\n",
      "|    time_elapsed         | 3           |\n",
      "|    total_timesteps      | 6144        |\n",
      "| train/                  |             |\n",
      "|    approx_kl            | 0.009029861 |\n",
      "|    clip_fraction        | 0.0466      |\n",
      "|    clip_range           | 0.2         |\n",
      "|    entropy_loss         | -0.663      |\n",
      "|    explained_variance   | 0.0835      |\n",
      "|    learning_rate        | 0.0003      |\n",
      "|    loss                 | 16.9        |\n",
      "|    n_updates            | 20          |\n",
      "|    policy_gradient_loss | -0.014      |\n",
      "|    value_loss           | 36.1        |\n",
      "-----------------------------------------\n",
      "-----------------------------------------\n",
      "| rollout/                |             |\n",
      "|    ep_len_mean          | 51          |\n",
      "|    ep_rew_mean          | 51          |\n",
      "| time/                   |             |\n",
      "|    fps                  | 1526        |\n",
      "|    iterations           | 4           |\n",
      "|    time_elapsed         | 5           |\n",
      "|    total_timesteps      | 8192        |\n",
      "| train/                  |             |\n",
      "|    approx_kl            | 0.009390696 |\n",
      "|    clip_fraction        | 0.0659      |\n",
      "|    clip_range           | 0.2         |\n",
      "|    entropy_loss         | -0.636      |\n",
      "|    explained_variance   | 0.146       |\n",
      "|    learning_rate        | 0.0003      |\n",
      "|    loss                 | 26.3        |\n",
      "|    n_updates            | 30          |\n",
      "|    policy_gradient_loss | -0.0157     |\n",
      "|    value_loss           | 59.6        |\n",
      "-----------------------------------------\n",
      "-----------------------------------------\n",
      "| rollout/                |             |\n",
      "|    ep_len_mean          | 65.5        |\n",
      "|    ep_rew_mean          | 65.5        |\n",
      "| time/                   |             |\n",
      "|    fps                  | 1487        |\n",
      "|    iterations           | 5           |\n",
      "|    time_elapsed         | 6           |\n",
      "|    total_timesteps      | 10240       |\n",
      "| train/                  |             |\n",
      "|    approx_kl            | 0.006515039 |\n",
      "|    clip_fraction        | 0.0459      |\n",
      "|    clip_range           | 0.2         |\n",
      "|    entropy_loss         | -0.614      |\n",
      "|    explained_variance   | 0.254       |\n",
      "|    learning_rate        | 0.0003      |\n",
      "|    loss                 | 25.9        |\n",
      "|    n_updates            | 40          |\n",
      "|    policy_gradient_loss | -0.0139     |\n",
      "|    value_loss           | 66.9        |\n",
      "-----------------------------------------\n"
     ]
    },
    {
     "data": {
      "text/plain": [
       "<stable_baselines3.ppo.ppo.PPO at 0x7fd1c5ebca90>"
      ]
     },
     "execution_count": 4,
     "metadata": {},
     "output_type": "execute_result"
    }
   ],
   "source": [
    "model = PPO('MlpPolicy', env, verbose=1)\n",
    "model.learn(total_timesteps=10000)"
   ]
  },
  {
   "cell_type": "markdown",
   "id": "f1502461",
   "metadata": {},
   "source": [
    "Wrap the environment in an observation noise wrapper. This wrapper will sample noise from a normal distribution with a mean of zero and a standard deviation of 1.\n",
    "\n",
    "These parameters can be changed to make the noise more challenging, for example you can change the mean (which will immediately make the environment much more challenging compared to a 0 mean) or increase the standard deviation so there is greater spread to the noise.\n",
    "\n",
    "You can also try a different noise type. The available options are:\n",
    "- `\"normal\"`\n",
    "- `\"uniform\"`\n",
    "- `\"discrete_uniform\"`\n",
    "- `\"beta\"`\n",
    "- `\"poisson\"`\n",
    "\n",
    "Each distribution has the same keyword arguments as the NumPy functions of the same signature (e.g `\"normal\"` has the same arguments as `numpy.random.normal` and so on)."
   ]
  },
  {
   "cell_type": "code",
   "execution_count": 5,
   "id": "13f3767b",
   "metadata": {},
   "outputs": [],
   "source": [
    "env = ObsNoiseWrapper(env, \"normal\", dict(loc=0, scale=1))"
   ]
  },
  {
   "cell_type": "markdown",
   "id": "7806753d",
   "metadata": {},
   "source": [
    "Now, we can use stable-baselines to train on the environment for 10000 timesteps."
   ]
  },
  {
   "cell_type": "code",
   "execution_count": 6,
   "id": "6a44f143",
   "metadata": {
    "scrolled": false
   },
   "outputs": [
    {
     "name": "stdout",
     "output_type": "stream",
     "text": [
      "Using cpu device\n",
      "Wrapping the env with a `Monitor` wrapper\n",
      "Wrapping the env in a DummyVecEnv.\n",
      "---------------------------------\n",
      "| rollout/           |          |\n",
      "|    ep_len_mean     | 22       |\n",
      "|    ep_rew_mean     | 22       |\n",
      "| time/              |          |\n",
      "|    fps             | 2459     |\n",
      "|    iterations      | 1        |\n",
      "|    time_elapsed    | 0        |\n",
      "|    total_timesteps | 2048     |\n",
      "---------------------------------\n",
      "------------------------------------------\n",
      "| rollout/                |              |\n",
      "|    ep_len_mean          | 22           |\n",
      "|    ep_rew_mean          | 22           |\n",
      "| time/                   |              |\n",
      "|    fps                  | 1633         |\n",
      "|    iterations           | 2            |\n",
      "|    time_elapsed         | 2            |\n",
      "|    total_timesteps      | 4096         |\n",
      "| train/                  |              |\n",
      "|    approx_kl            | 0.0075044963 |\n",
      "|    clip_fraction        | 0.0557       |\n",
      "|    clip_range           | 0.2          |\n",
      "|    entropy_loss         | -0.687       |\n",
      "|    explained_variance   | -0.00213     |\n",
      "|    learning_rate        | 0.0003       |\n",
      "|    loss                 | 12.5         |\n",
      "|    n_updates            | 10           |\n",
      "|    policy_gradient_loss | -0.00767     |\n",
      "|    value_loss           | 65.5         |\n",
      "------------------------------------------\n",
      "-----------------------------------------\n",
      "| rollout/                |             |\n",
      "|    ep_len_mean          | 24.6        |\n",
      "|    ep_rew_mean          | 24.6        |\n",
      "| time/                   |             |\n",
      "|    fps                  | 1456        |\n",
      "|    iterations           | 3           |\n",
      "|    time_elapsed         | 4           |\n",
      "|    total_timesteps      | 6144        |\n",
      "| train/                  |             |\n",
      "|    approx_kl            | 0.009009816 |\n",
      "|    clip_fraction        | 0.0441      |\n",
      "|    clip_range           | 0.2         |\n",
      "|    entropy_loss         | -0.668      |\n",
      "|    explained_variance   | 0.021       |\n",
      "|    learning_rate        | 0.0003      |\n",
      "|    loss                 | 10.4        |\n",
      "|    n_updates            | 20          |\n",
      "|    policy_gradient_loss | -0.00604    |\n",
      "|    value_loss           | 26.5        |\n",
      "-----------------------------------------\n",
      "-----------------------------------------\n",
      "| rollout/                |             |\n",
      "|    ep_len_mean          | 27.6        |\n",
      "|    ep_rew_mean          | 27.6        |\n",
      "| time/                   |             |\n",
      "|    fps                  | 1387        |\n",
      "|    iterations           | 4           |\n",
      "|    time_elapsed         | 5           |\n",
      "|    total_timesteps      | 8192        |\n",
      "| train/                  |             |\n",
      "|    approx_kl            | 0.007528095 |\n",
      "|    clip_fraction        | 0.0526      |\n",
      "|    clip_range           | 0.2         |\n",
      "|    entropy_loss         | -0.65       |\n",
      "|    explained_variance   | 0.0405      |\n",
      "|    learning_rate        | 0.0003      |\n",
      "|    loss                 | 17          |\n",
      "|    n_updates            | 30          |\n",
      "|    policy_gradient_loss | -0.00561    |\n",
      "|    value_loss           | 41.9        |\n",
      "-----------------------------------------\n",
      "------------------------------------------\n",
      "| rollout/                |              |\n",
      "|    ep_len_mean          | 33.8         |\n",
      "|    ep_rew_mean          | 33.8         |\n",
      "| time/                   |              |\n",
      "|    fps                  | 1353         |\n",
      "|    iterations           | 5            |\n",
      "|    time_elapsed         | 7            |\n",
      "|    total_timesteps      | 10240        |\n",
      "| train/                  |              |\n",
      "|    approx_kl            | 0.0044380035 |\n",
      "|    clip_fraction        | 0.0219       |\n",
      "|    clip_range           | 0.2          |\n",
      "|    entropy_loss         | -0.62        |\n",
      "|    explained_variance   | 0.0162       |\n",
      "|    learning_rate        | 0.0003       |\n",
      "|    loss                 | 32.6         |\n",
      "|    n_updates            | 40           |\n",
      "|    policy_gradient_loss | -0.00278     |\n",
      "|    value_loss           | 56.8         |\n",
      "------------------------------------------\n"
     ]
    },
    {
     "data": {
      "text/plain": [
       "<stable_baselines3.ppo.ppo.PPO at 0x7fd1cabb46d0>"
      ]
     },
     "execution_count": 6,
     "metadata": {},
     "output_type": "execute_result"
    }
   ],
   "source": [
    "model = PPO('MlpPolicy', env, verbose=1)\n",
    "model.learn(total_timesteps=10000)"
   ]
  },
  {
   "cell_type": "markdown",
   "id": "c4bb0b08",
   "metadata": {},
   "source": [
    "Even though we only ran for 10,000 timesteps, which is not enough to train a model to convergence, we can already see the impact that the added noise is having on the training process. The model trained on the environment *without* noise has already obtained a reward of 65.5 at timestep 10240, while the model trained on the *noisy* environment only has a reward of 33.8.\n",
    "\n",
    "The `ActionNoiseWrapper` and `RewardNoiseWrapper` work in the same way as the `ObsNoiseWrapper`demoed here."
   ]
  }
 ],
 "metadata": {
  "kernelspec": {
   "display_name": "Python 3 (ipykernel)",
   "language": "python",
   "name": "python3"
  },
  "language_info": {
   "codemirror_mode": {
    "name": "ipython",
    "version": 3
   },
   "file_extension": ".py",
   "mimetype": "text/x-python",
   "name": "python",
   "nbconvert_exporter": "python",
   "pygments_lexer": "ipython3",
   "version": "3.8.12"
  }
 },
 "nbformat": 4,
 "nbformat_minor": 5
}
